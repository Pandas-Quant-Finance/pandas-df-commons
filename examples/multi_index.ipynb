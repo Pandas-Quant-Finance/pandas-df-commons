{
 "cells": [
  {
   "cell_type": "code",
   "execution_count": 1,
   "metadata": {
    "collapsed": true
   },
   "outputs": [
    {
     "name": "stdout",
     "output_type": "stream",
     "text": [
      "pandas version 1.5.1\n"
     ]
    }
   ],
   "source": [
    "%load_ext autoreload\n",
    "%autoreload 2\n",
    "\n",
    "import numpy as np\n",
    "from pandas_df_commons.patched import pd"
   ]
  },
  {
   "cell_type": "code",
   "execution_count": 2,
   "outputs": [
    {
     "data": {
      "text/plain": "          A                                       B                      \\\n       open      high       low     close      open      high       low   \n0  0.813626  0.479962  0.430051  0.609503  0.023282  0.984334  0.863002   \n1  0.000437  0.152569  0.469321  0.177843  0.652503  0.255874  0.052288   \n2  0.886877  0.630192  0.726781  0.705546  0.905343  0.557222  0.843524   \n\n             \n      close  \n0  0.370042  \n1  0.637597  \n2  0.464558  ",
      "text/html": "<div>\n<style scoped>\n    .dataframe tbody tr th:only-of-type {\n        vertical-align: middle;\n    }\n\n    .dataframe tbody tr th {\n        vertical-align: top;\n    }\n\n    .dataframe thead tr th {\n        text-align: left;\n    }\n</style>\n<table border=\"1\" class=\"dataframe\">\n  <thead>\n    <tr>\n      <th></th>\n      <th colspan=\"4\" halign=\"left\">A</th>\n      <th colspan=\"4\" halign=\"left\">B</th>\n    </tr>\n    <tr>\n      <th></th>\n      <th>open</th>\n      <th>high</th>\n      <th>low</th>\n      <th>close</th>\n      <th>open</th>\n      <th>high</th>\n      <th>low</th>\n      <th>close</th>\n    </tr>\n  </thead>\n  <tbody>\n    <tr>\n      <th>0</th>\n      <td>0.813626</td>\n      <td>0.479962</td>\n      <td>0.430051</td>\n      <td>0.609503</td>\n      <td>0.023282</td>\n      <td>0.984334</td>\n      <td>0.863002</td>\n      <td>0.370042</td>\n    </tr>\n    <tr>\n      <th>1</th>\n      <td>0.000437</td>\n      <td>0.152569</td>\n      <td>0.469321</td>\n      <td>0.177843</td>\n      <td>0.652503</td>\n      <td>0.255874</td>\n      <td>0.052288</td>\n      <td>0.637597</td>\n    </tr>\n    <tr>\n      <th>2</th>\n      <td>0.886877</td>\n      <td>0.630192</td>\n      <td>0.726781</td>\n      <td>0.705546</td>\n      <td>0.905343</td>\n      <td>0.557222</td>\n      <td>0.843524</td>\n      <td>0.464558</td>\n    </tr>\n  </tbody>\n</table>\n</div>"
     },
     "execution_count": 2,
     "metadata": {},
     "output_type": "execute_result"
    }
   ],
   "source": [
    "df = pd.concat(\n",
    "    [\n",
    "        pd.DataFrame({col: np.random.random(3) for col in [\"open\", \"high\", \"low\", \"close\"]}),\n",
    "        pd.DataFrame({col: np.random.random(3) for col in [\"open\", \"high\", \"low\", \"close\"]}),\n",
    "    ],\n",
    "    axis=1,\n",
    "    keys=[\"A\", \"B\"]\n",
    ")\n",
    "\n",
    "df"
   ],
   "metadata": {
    "collapsed": false
   }
  },
  {
   "cell_type": "code",
   "execution_count": 3,
   "outputs": [
    {
     "data": {
      "text/plain": "   (A, open)  (B, open)  (A, close)  (B, close)\n0   0.813626   0.023282    0.609503    0.370042\n1   0.000437   0.652503    0.177843    0.637597\n2   0.886877   0.905343    0.705546    0.464558",
      "text/html": "<div>\n<style scoped>\n    .dataframe tbody tr th:only-of-type {\n        vertical-align: middle;\n    }\n\n    .dataframe tbody tr th {\n        vertical-align: top;\n    }\n\n    .dataframe thead th {\n        text-align: right;\n    }\n</style>\n<table border=\"1\" class=\"dataframe\">\n  <thead>\n    <tr style=\"text-align: right;\">\n      <th></th>\n      <th>(A, open)</th>\n      <th>(B, open)</th>\n      <th>(A, close)</th>\n      <th>(B, close)</th>\n    </tr>\n  </thead>\n  <tbody>\n    <tr>\n      <th>0</th>\n      <td>0.813626</td>\n      <td>0.023282</td>\n      <td>0.609503</td>\n      <td>0.370042</td>\n    </tr>\n    <tr>\n      <th>1</th>\n      <td>0.000437</td>\n      <td>0.652503</td>\n      <td>0.177843</td>\n      <td>0.637597</td>\n    </tr>\n    <tr>\n      <th>2</th>\n      <td>0.886877</td>\n      <td>0.905343</td>\n      <td>0.705546</td>\n      <td>0.464558</td>\n    </tr>\n  </tbody>\n</table>\n</div>"
     },
     "execution_count": 3,
     "metadata": {},
     "output_type": "execute_result"
    }
   ],
   "source": [
    "# access values of any level (1st hit top down)\n",
    "df.X[[\"open\", \"close\"]]"
   ],
   "metadata": {
    "collapsed": false
   }
  },
  {
   "cell_type": "code",
   "execution_count": 4,
   "outputs": [
    {
     "data": {
      "text/plain": "   (A, open)  (A, low)  (A, close)  (B, open)  (B, low)  (B, close)\n0   0.813626  0.430051    0.609503   0.023282  0.863002    0.370042\n1   0.000437  0.469321    0.177843   0.652503  0.052288    0.637597\n2   0.886877  0.726781    0.705546   0.905343  0.843524    0.464558",
      "text/html": "<div>\n<style scoped>\n    .dataframe tbody tr th:only-of-type {\n        vertical-align: middle;\n    }\n\n    .dataframe tbody tr th {\n        vertical-align: top;\n    }\n\n    .dataframe thead th {\n        text-align: right;\n    }\n</style>\n<table border=\"1\" class=\"dataframe\">\n  <thead>\n    <tr style=\"text-align: right;\">\n      <th></th>\n      <th>(A, open)</th>\n      <th>(A, low)</th>\n      <th>(A, close)</th>\n      <th>(B, open)</th>\n      <th>(B, low)</th>\n      <th>(B, close)</th>\n    </tr>\n  </thead>\n  <tbody>\n    <tr>\n      <th>0</th>\n      <td>0.813626</td>\n      <td>0.430051</td>\n      <td>0.609503</td>\n      <td>0.023282</td>\n      <td>0.863002</td>\n      <td>0.370042</td>\n    </tr>\n    <tr>\n      <th>1</th>\n      <td>0.000437</td>\n      <td>0.469321</td>\n      <td>0.177843</td>\n      <td>0.652503</td>\n      <td>0.052288</td>\n      <td>0.637597</td>\n    </tr>\n    <tr>\n      <th>2</th>\n      <td>0.886877</td>\n      <td>0.726781</td>\n      <td>0.705546</td>\n      <td>0.905343</td>\n      <td>0.843524</td>\n      <td>0.464558</td>\n    </tr>\n  </tbody>\n</table>\n</div>"
     },
     "execution_count": 4,
     "metadata": {},
     "output_type": "execute_result"
    }
   ],
   "source": [
    "# access columns of any level by regex ( index is converted str(tuple(<column>))    )\n",
    "df.X[\"~/.+o.+/\"]"
   ],
   "metadata": {
    "collapsed": false
   }
  },
  {
   "cell_type": "code",
   "execution_count": 5,
   "outputs": [
    {
     "data": {
      "text/plain": "   (A, open)  (A, close)\n0   0.813626    0.609503\n1   0.000437    0.177843\n2   0.886877    0.705546",
      "text/html": "<div>\n<style scoped>\n    .dataframe tbody tr th:only-of-type {\n        vertical-align: middle;\n    }\n\n    .dataframe tbody tr th {\n        vertical-align: top;\n    }\n\n    .dataframe thead th {\n        text-align: right;\n    }\n</style>\n<table border=\"1\" class=\"dataframe\">\n  <thead>\n    <tr style=\"text-align: right;\">\n      <th></th>\n      <th>(A, open)</th>\n      <th>(A, close)</th>\n    </tr>\n  </thead>\n  <tbody>\n    <tr>\n      <th>0</th>\n      <td>0.813626</td>\n      <td>0.609503</td>\n    </tr>\n    <tr>\n      <th>1</th>\n      <td>0.000437</td>\n      <td>0.177843</td>\n    </tr>\n    <tr>\n      <th>2</th>\n      <td>0.886877</td>\n      <td>0.705546</td>\n    </tr>\n  </tbody>\n</table>\n</div>"
     },
     "execution_count": 5,
     "metadata": {},
     "output_type": "execute_result"
    }
   ],
   "source": [
    "df.X[\"~/A/.*[en]$/\"]"
   ],
   "metadata": {
    "collapsed": false
   }
  },
  {
   "cell_type": "code",
   "execution_count": 6,
   "outputs": [
    {
     "data": {
      "text/plain": "   (B, open)  (B, high)  (B, low)  (B, close)  (A, open)  (A, high)  (A, low)  \\\n0   0.023282   0.984334  0.863002    0.370042   0.813626   0.479962  0.430051   \n1   0.652503   0.255874  0.052288    0.637597   0.000437   0.152569  0.469321   \n2   0.905343   0.557222  0.843524    0.464558   0.886877   0.630192  0.726781   \n\n   (A, close)  \n0    0.609503  \n1    0.177843  \n2    0.705546  ",
      "text/html": "<div>\n<style scoped>\n    .dataframe tbody tr th:only-of-type {\n        vertical-align: middle;\n    }\n\n    .dataframe tbody tr th {\n        vertical-align: top;\n    }\n\n    .dataframe thead th {\n        text-align: right;\n    }\n</style>\n<table border=\"1\" class=\"dataframe\">\n  <thead>\n    <tr style=\"text-align: right;\">\n      <th></th>\n      <th>(B, open)</th>\n      <th>(B, high)</th>\n      <th>(B, low)</th>\n      <th>(B, close)</th>\n      <th>(A, open)</th>\n      <th>(A, high)</th>\n      <th>(A, low)</th>\n      <th>(A, close)</th>\n    </tr>\n  </thead>\n  <tbody>\n    <tr>\n      <th>0</th>\n      <td>0.023282</td>\n      <td>0.984334</td>\n      <td>0.863002</td>\n      <td>0.370042</td>\n      <td>0.813626</td>\n      <td>0.479962</td>\n      <td>0.430051</td>\n      <td>0.609503</td>\n    </tr>\n    <tr>\n      <th>1</th>\n      <td>0.652503</td>\n      <td>0.255874</td>\n      <td>0.052288</td>\n      <td>0.637597</td>\n      <td>0.000437</td>\n      <td>0.152569</td>\n      <td>0.469321</td>\n      <td>0.177843</td>\n    </tr>\n    <tr>\n      <th>2</th>\n      <td>0.905343</td>\n      <td>0.557222</td>\n      <td>0.843524</td>\n      <td>0.464558</td>\n      <td>0.886877</td>\n      <td>0.630192</td>\n      <td>0.726781</td>\n      <td>0.705546</td>\n    </tr>\n  </tbody>\n</table>\n</div>"
     },
     "execution_count": 6,
     "metadata": {},
     "output_type": "execute_result"
    }
   ],
   "source": [
    "df.X[[\"B\", \"A\"]]"
   ],
   "metadata": {
    "collapsed": false
   }
  },
  {
   "cell_type": "code",
   "execution_count": 7,
   "outputs": [
    {
     "data": {
      "text/plain": "   (A, open)  (A, close)  (B, open)  (B, high)  (B, low)  (B, close)\n0   0.813626    0.609503   0.023282   0.984334  0.863002    0.370042\n1   0.000437    0.177843   0.652503   0.255874  0.052288    0.637597\n2   0.886877    0.705546   0.905343   0.557222  0.843524    0.464558",
      "text/html": "<div>\n<style scoped>\n    .dataframe tbody tr th:only-of-type {\n        vertical-align: middle;\n    }\n\n    .dataframe tbody tr th {\n        vertical-align: top;\n    }\n\n    .dataframe thead th {\n        text-align: right;\n    }\n</style>\n<table border=\"1\" class=\"dataframe\">\n  <thead>\n    <tr style=\"text-align: right;\">\n      <th></th>\n      <th>(A, open)</th>\n      <th>(A, close)</th>\n      <th>(B, open)</th>\n      <th>(B, high)</th>\n      <th>(B, low)</th>\n      <th>(B, close)</th>\n    </tr>\n  </thead>\n  <tbody>\n    <tr>\n      <th>0</th>\n      <td>0.813626</td>\n      <td>0.609503</td>\n      <td>0.023282</td>\n      <td>0.984334</td>\n      <td>0.863002</td>\n      <td>0.370042</td>\n    </tr>\n    <tr>\n      <th>1</th>\n      <td>0.000437</td>\n      <td>0.177843</td>\n      <td>0.652503</td>\n      <td>0.255874</td>\n      <td>0.052288</td>\n      <td>0.637597</td>\n    </tr>\n    <tr>\n      <th>2</th>\n      <td>0.886877</td>\n      <td>0.705546</td>\n      <td>0.905343</td>\n      <td>0.557222</td>\n      <td>0.843524</td>\n      <td>0.464558</td>\n    </tr>\n  </tbody>\n</table>\n</div>"
     },
     "execution_count": 7,
     "metadata": {},
     "output_type": "execute_result"
    }
   ],
   "source": [
    "df.X[[\"~/A/.*[en]$/\", \"B\"]]"
   ],
   "metadata": {
    "collapsed": false
   }
  },
  {
   "cell_type": "code",
   "execution_count": 8,
   "outputs": [],
   "source": [
    "df2 = pd.concat(\n",
    "    [\n",
    "        pd.DataFrame({col: np.random.random(3) for col in [\"open\", \"high\", \"low\", \"close\"]}),\n",
    "        pd.DataFrame({col: np.random.random(3) for col in [\"open\", \"high\", \"low\", \"close\"]}),\n",
    "    ],\n",
    "    axis=0,\n",
    "    keys=[\"A\", \"B\"]\n",
    ")"
   ],
   "metadata": {
    "collapsed": false
   }
  },
  {
   "cell_type": "code",
   "execution_count": 9,
   "outputs": [
    {
     "data": {
      "text/plain": "         open      high       low      close\nA 0  0.000000  0.000000  0.000000   0.000000\n  1  0.927807  2.164683 -0.636873   7.684798\n  2 -0.712712  1.473482  0.060087   3.677276\nB 0  0.000000  0.000000  0.000000   0.000000\n  1 -0.346838  0.001748 -0.332810  -0.896835\n  2  0.073323 -0.898385 -0.774607  16.727912",
      "text/html": "<div>\n<style scoped>\n    .dataframe tbody tr th:only-of-type {\n        vertical-align: middle;\n    }\n\n    .dataframe tbody tr th {\n        vertical-align: top;\n    }\n\n    .dataframe thead th {\n        text-align: right;\n    }\n</style>\n<table border=\"1\" class=\"dataframe\">\n  <thead>\n    <tr style=\"text-align: right;\">\n      <th></th>\n      <th></th>\n      <th>open</th>\n      <th>high</th>\n      <th>low</th>\n      <th>close</th>\n    </tr>\n  </thead>\n  <tbody>\n    <tr>\n      <th rowspan=\"3\" valign=\"top\">A</th>\n      <th>0</th>\n      <td>0.000000</td>\n      <td>0.000000</td>\n      <td>0.000000</td>\n      <td>0.000000</td>\n    </tr>\n    <tr>\n      <th>1</th>\n      <td>0.927807</td>\n      <td>2.164683</td>\n      <td>-0.636873</td>\n      <td>7.684798</td>\n    </tr>\n    <tr>\n      <th>2</th>\n      <td>-0.712712</td>\n      <td>1.473482</td>\n      <td>0.060087</td>\n      <td>3.677276</td>\n    </tr>\n    <tr>\n      <th rowspan=\"3\" valign=\"top\">B</th>\n      <th>0</th>\n      <td>0.000000</td>\n      <td>0.000000</td>\n      <td>0.000000</td>\n      <td>0.000000</td>\n    </tr>\n    <tr>\n      <th>1</th>\n      <td>-0.346838</td>\n      <td>0.001748</td>\n      <td>-0.332810</td>\n      <td>-0.896835</td>\n    </tr>\n    <tr>\n      <th>2</th>\n      <td>0.073323</td>\n      <td>-0.898385</td>\n      <td>-0.774607</td>\n      <td>16.727912</td>\n    </tr>\n  </tbody>\n</table>\n</div>"
     },
     "execution_count": 9,
     "metadata": {},
     "output_type": "execute_result"
    }
   ],
   "source": [
    "# seperate calculation per hierarchy\n",
    "from pandas_df_commons.indexing.decorators import for_each_top_level_row\n",
    "\n",
    "@for_each_top_level_row\n",
    "def pct_change(df):\n",
    "    return df.pct_change().fillna(0)\n",
    "\n",
    "pct_change(df2)"
   ],
   "metadata": {
    "collapsed": false
   }
  }
 ],
 "metadata": {
  "kernelspec": {
   "display_name": "Python 3",
   "language": "python",
   "name": "python3"
  },
  "language_info": {
   "codemirror_mode": {
    "name": "ipython",
    "version": 2
   },
   "file_extension": ".py",
   "mimetype": "text/x-python",
   "name": "python",
   "nbconvert_exporter": "python",
   "pygments_lexer": "ipython2",
   "version": "2.7.6"
  }
 },
 "nbformat": 4,
 "nbformat_minor": 0
}
