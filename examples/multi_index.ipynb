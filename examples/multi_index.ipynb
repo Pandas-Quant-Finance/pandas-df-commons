{
 "cells": [
  {
   "cell_type": "code",
   "execution_count": 1,
   "metadata": {
    "collapsed": true
   },
   "outputs": [
    {
     "name": "stdout",
     "output_type": "stream",
     "text": [
      "pandas version 1.5.1\n"
     ]
    }
   ],
   "source": [
    "%load_ext autoreload\n",
    "%autoreload 2\n",
    "\n",
    "import numpy as np\n",
    "from pandas_df_commons.patched import pd"
   ]
  },
  {
   "cell_type": "code",
   "execution_count": 2,
   "outputs": [
    {
     "data": {
      "text/plain": "          A                                       B                      \\\n       open      high       low     close      open      high       low   \n0  0.284478  0.304466  0.457123  0.650286  0.473524  0.180528  0.971797   \n1  0.388407  0.058738  0.815588  0.057078  0.287017  0.908005  0.272512   \n2  0.772364  0.508710  0.719162  0.889439  0.287990  0.970311  0.779211   \n\n             \n      close  \n0  0.952579  \n1  0.815594  \n2  0.342578  ",
      "text/html": "<div>\n<style scoped>\n    .dataframe tbody tr th:only-of-type {\n        vertical-align: middle;\n    }\n\n    .dataframe tbody tr th {\n        vertical-align: top;\n    }\n\n    .dataframe thead tr th {\n        text-align: left;\n    }\n</style>\n<table border=\"1\" class=\"dataframe\">\n  <thead>\n    <tr>\n      <th></th>\n      <th colspan=\"4\" halign=\"left\">A</th>\n      <th colspan=\"4\" halign=\"left\">B</th>\n    </tr>\n    <tr>\n      <th></th>\n      <th>open</th>\n      <th>high</th>\n      <th>low</th>\n      <th>close</th>\n      <th>open</th>\n      <th>high</th>\n      <th>low</th>\n      <th>close</th>\n    </tr>\n  </thead>\n  <tbody>\n    <tr>\n      <th>0</th>\n      <td>0.284478</td>\n      <td>0.304466</td>\n      <td>0.457123</td>\n      <td>0.650286</td>\n      <td>0.473524</td>\n      <td>0.180528</td>\n      <td>0.971797</td>\n      <td>0.952579</td>\n    </tr>\n    <tr>\n      <th>1</th>\n      <td>0.388407</td>\n      <td>0.058738</td>\n      <td>0.815588</td>\n      <td>0.057078</td>\n      <td>0.287017</td>\n      <td>0.908005</td>\n      <td>0.272512</td>\n      <td>0.815594</td>\n    </tr>\n    <tr>\n      <th>2</th>\n      <td>0.772364</td>\n      <td>0.508710</td>\n      <td>0.719162</td>\n      <td>0.889439</td>\n      <td>0.287990</td>\n      <td>0.970311</td>\n      <td>0.779211</td>\n      <td>0.342578</td>\n    </tr>\n  </tbody>\n</table>\n</div>"
     },
     "execution_count": 2,
     "metadata": {},
     "output_type": "execute_result"
    }
   ],
   "source": [
    "df = pd.concat(\n",
    "    [\n",
    "        pd.DataFrame({col: np.random.random(3) for col in [\"open\", \"high\", \"low\", \"close\"]}),\n",
    "        pd.DataFrame({col: np.random.random(3) for col in [\"open\", \"high\", \"low\", \"close\"]}),\n",
    "    ],\n",
    "    axis=1,\n",
    "    keys=[\"A\", \"B\"]\n",
    ")\n",
    "\n",
    "df"
   ],
   "metadata": {
    "collapsed": false
   }
  },
  {
   "cell_type": "code",
   "execution_count": 3,
   "outputs": [
    {
     "data": {
      "text/plain": "   (A, open)  (B, open)  (A, close)  (B, close)\n0   0.284478   0.473524    0.650286    0.952579\n1   0.388407   0.287017    0.057078    0.815594\n2   0.772364   0.287990    0.889439    0.342578",
      "text/html": "<div>\n<style scoped>\n    .dataframe tbody tr th:only-of-type {\n        vertical-align: middle;\n    }\n\n    .dataframe tbody tr th {\n        vertical-align: top;\n    }\n\n    .dataframe thead th {\n        text-align: right;\n    }\n</style>\n<table border=\"1\" class=\"dataframe\">\n  <thead>\n    <tr style=\"text-align: right;\">\n      <th></th>\n      <th>(A, open)</th>\n      <th>(B, open)</th>\n      <th>(A, close)</th>\n      <th>(B, close)</th>\n    </tr>\n  </thead>\n  <tbody>\n    <tr>\n      <th>0</th>\n      <td>0.284478</td>\n      <td>0.473524</td>\n      <td>0.650286</td>\n      <td>0.952579</td>\n    </tr>\n    <tr>\n      <th>1</th>\n      <td>0.388407</td>\n      <td>0.287017</td>\n      <td>0.057078</td>\n      <td>0.815594</td>\n    </tr>\n    <tr>\n      <th>2</th>\n      <td>0.772364</td>\n      <td>0.287990</td>\n      <td>0.889439</td>\n      <td>0.342578</td>\n    </tr>\n  </tbody>\n</table>\n</div>"
     },
     "execution_count": 3,
     "metadata": {},
     "output_type": "execute_result"
    }
   ],
   "source": [
    "# access values of any level (1st hit top down)\n",
    "df.X[[\"open\", \"close\"]]"
   ],
   "metadata": {
    "collapsed": false
   }
  },
  {
   "cell_type": "code",
   "execution_count": 4,
   "outputs": [
    {
     "data": {
      "text/plain": "   (A, open)  (A, low)  (A, close)  (B, open)  (B, low)  (B, close)\n0   0.284478  0.457123    0.650286   0.473524  0.971797    0.952579\n1   0.388407  0.815588    0.057078   0.287017  0.272512    0.815594\n2   0.772364  0.719162    0.889439   0.287990  0.779211    0.342578",
      "text/html": "<div>\n<style scoped>\n    .dataframe tbody tr th:only-of-type {\n        vertical-align: middle;\n    }\n\n    .dataframe tbody tr th {\n        vertical-align: top;\n    }\n\n    .dataframe thead th {\n        text-align: right;\n    }\n</style>\n<table border=\"1\" class=\"dataframe\">\n  <thead>\n    <tr style=\"text-align: right;\">\n      <th></th>\n      <th>(A, open)</th>\n      <th>(A, low)</th>\n      <th>(A, close)</th>\n      <th>(B, open)</th>\n      <th>(B, low)</th>\n      <th>(B, close)</th>\n    </tr>\n  </thead>\n  <tbody>\n    <tr>\n      <th>0</th>\n      <td>0.284478</td>\n      <td>0.457123</td>\n      <td>0.650286</td>\n      <td>0.473524</td>\n      <td>0.971797</td>\n      <td>0.952579</td>\n    </tr>\n    <tr>\n      <th>1</th>\n      <td>0.388407</td>\n      <td>0.815588</td>\n      <td>0.057078</td>\n      <td>0.287017</td>\n      <td>0.272512</td>\n      <td>0.815594</td>\n    </tr>\n    <tr>\n      <th>2</th>\n      <td>0.772364</td>\n      <td>0.719162</td>\n      <td>0.889439</td>\n      <td>0.287990</td>\n      <td>0.779211</td>\n      <td>0.342578</td>\n    </tr>\n  </tbody>\n</table>\n</div>"
     },
     "execution_count": 4,
     "metadata": {},
     "output_type": "execute_result"
    }
   ],
   "source": [
    "# access columns of any level by regex ( index is converted str(tuple(<column>))    )\n",
    "df.X[\"~/.+o.+/\"]"
   ],
   "metadata": {
    "collapsed": false
   }
  },
  {
   "cell_type": "code",
   "execution_count": 5,
   "outputs": [
    {
     "data": {
      "text/plain": "   (A, open)  (A, close)\n0   0.284478    0.650286\n1   0.388407    0.057078\n2   0.772364    0.889439",
      "text/html": "<div>\n<style scoped>\n    .dataframe tbody tr th:only-of-type {\n        vertical-align: middle;\n    }\n\n    .dataframe tbody tr th {\n        vertical-align: top;\n    }\n\n    .dataframe thead th {\n        text-align: right;\n    }\n</style>\n<table border=\"1\" class=\"dataframe\">\n  <thead>\n    <tr style=\"text-align: right;\">\n      <th></th>\n      <th>(A, open)</th>\n      <th>(A, close)</th>\n    </tr>\n  </thead>\n  <tbody>\n    <tr>\n      <th>0</th>\n      <td>0.284478</td>\n      <td>0.650286</td>\n    </tr>\n    <tr>\n      <th>1</th>\n      <td>0.388407</td>\n      <td>0.057078</td>\n    </tr>\n    <tr>\n      <th>2</th>\n      <td>0.772364</td>\n      <td>0.889439</td>\n    </tr>\n  </tbody>\n</table>\n</div>"
     },
     "execution_count": 5,
     "metadata": {},
     "output_type": "execute_result"
    }
   ],
   "source": [
    "df.X[\"~/A/.*[en]$/\"]"
   ],
   "metadata": {
    "collapsed": false
   }
  },
  {
   "cell_type": "code",
   "execution_count": 6,
   "outputs": [
    {
     "data": {
      "text/plain": "   (B, open)  (B, high)  (B, low)  (B, close)  (A, open)  (A, high)  (A, low)  \\\n0   0.473524   0.180528  0.971797    0.952579   0.284478   0.304466  0.457123   \n1   0.287017   0.908005  0.272512    0.815594   0.388407   0.058738  0.815588   \n2   0.287990   0.970311  0.779211    0.342578   0.772364   0.508710  0.719162   \n\n   (A, close)  \n0    0.650286  \n1    0.057078  \n2    0.889439  ",
      "text/html": "<div>\n<style scoped>\n    .dataframe tbody tr th:only-of-type {\n        vertical-align: middle;\n    }\n\n    .dataframe tbody tr th {\n        vertical-align: top;\n    }\n\n    .dataframe thead th {\n        text-align: right;\n    }\n</style>\n<table border=\"1\" class=\"dataframe\">\n  <thead>\n    <tr style=\"text-align: right;\">\n      <th></th>\n      <th>(B, open)</th>\n      <th>(B, high)</th>\n      <th>(B, low)</th>\n      <th>(B, close)</th>\n      <th>(A, open)</th>\n      <th>(A, high)</th>\n      <th>(A, low)</th>\n      <th>(A, close)</th>\n    </tr>\n  </thead>\n  <tbody>\n    <tr>\n      <th>0</th>\n      <td>0.473524</td>\n      <td>0.180528</td>\n      <td>0.971797</td>\n      <td>0.952579</td>\n      <td>0.284478</td>\n      <td>0.304466</td>\n      <td>0.457123</td>\n      <td>0.650286</td>\n    </tr>\n    <tr>\n      <th>1</th>\n      <td>0.287017</td>\n      <td>0.908005</td>\n      <td>0.272512</td>\n      <td>0.815594</td>\n      <td>0.388407</td>\n      <td>0.058738</td>\n      <td>0.815588</td>\n      <td>0.057078</td>\n    </tr>\n    <tr>\n      <th>2</th>\n      <td>0.287990</td>\n      <td>0.970311</td>\n      <td>0.779211</td>\n      <td>0.342578</td>\n      <td>0.772364</td>\n      <td>0.508710</td>\n      <td>0.719162</td>\n      <td>0.889439</td>\n    </tr>\n  </tbody>\n</table>\n</div>"
     },
     "execution_count": 6,
     "metadata": {},
     "output_type": "execute_result"
    }
   ],
   "source": [
    "df.X[[\"B\", \"A\"]]"
   ],
   "metadata": {
    "collapsed": false
   }
  },
  {
   "cell_type": "code",
   "execution_count": 7,
   "outputs": [
    {
     "data": {
      "text/plain": "   (A, open)  (A, close)  (B, open)  (B, high)  (B, low)  (B, close)\n0   0.284478    0.650286   0.473524   0.180528  0.971797    0.952579\n1   0.388407    0.057078   0.287017   0.908005  0.272512    0.815594\n2   0.772364    0.889439   0.287990   0.970311  0.779211    0.342578",
      "text/html": "<div>\n<style scoped>\n    .dataframe tbody tr th:only-of-type {\n        vertical-align: middle;\n    }\n\n    .dataframe tbody tr th {\n        vertical-align: top;\n    }\n\n    .dataframe thead th {\n        text-align: right;\n    }\n</style>\n<table border=\"1\" class=\"dataframe\">\n  <thead>\n    <tr style=\"text-align: right;\">\n      <th></th>\n      <th>(A, open)</th>\n      <th>(A, close)</th>\n      <th>(B, open)</th>\n      <th>(B, high)</th>\n      <th>(B, low)</th>\n      <th>(B, close)</th>\n    </tr>\n  </thead>\n  <tbody>\n    <tr>\n      <th>0</th>\n      <td>0.284478</td>\n      <td>0.650286</td>\n      <td>0.473524</td>\n      <td>0.180528</td>\n      <td>0.971797</td>\n      <td>0.952579</td>\n    </tr>\n    <tr>\n      <th>1</th>\n      <td>0.388407</td>\n      <td>0.057078</td>\n      <td>0.287017</td>\n      <td>0.908005</td>\n      <td>0.272512</td>\n      <td>0.815594</td>\n    </tr>\n    <tr>\n      <th>2</th>\n      <td>0.772364</td>\n      <td>0.889439</td>\n      <td>0.287990</td>\n      <td>0.970311</td>\n      <td>0.779211</td>\n      <td>0.342578</td>\n    </tr>\n  </tbody>\n</table>\n</div>"
     },
     "execution_count": 7,
     "metadata": {},
     "output_type": "execute_result"
    }
   ],
   "source": [
    "df.X[[\"~/A/.*[en]$/\", \"B\"]]"
   ],
   "metadata": {
    "collapsed": false
   }
  }
 ],
 "metadata": {
  "kernelspec": {
   "display_name": "Python 3",
   "language": "python",
   "name": "python3"
  },
  "language_info": {
   "codemirror_mode": {
    "name": "ipython",
    "version": 2
   },
   "file_extension": ".py",
   "mimetype": "text/x-python",
   "name": "python",
   "nbconvert_exporter": "python",
   "pygments_lexer": "ipython2",
   "version": "2.7.6"
  }
 },
 "nbformat": 4,
 "nbformat_minor": 0
}
